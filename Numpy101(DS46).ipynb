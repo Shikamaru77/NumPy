{
 "cells": [
  {
   "cell_type": "markdown",
   "id": "e512e6b2",
   "metadata": {},
   "source": [
    "# NumPy basix"
   ]
  },
  {
   "cell_type": "markdown",
   "id": "a8a2893f",
   "metadata": {},
   "source": [
    "*Version printing*"
   ]
  },
  {
   "cell_type": "code",
   "execution_count": 110,
   "id": "56ed9889-e2e9-4d74-9ac3-957e94e95ad0",
   "metadata": {},
   "outputs": [
    {
     "name": "stdout",
     "output_type": "stream",
     "text": [
      "1.21.5\n"
     ]
    }
   ],
   "source": [
    "import numpy as np\n",
    "print(np.__version__)"
   ]
  },
  {
   "cell_type": "markdown",
   "id": "f504df88",
   "metadata": {},
   "source": [
    "***Numpy arrays***"
   ]
  },
  {
   "cell_type": "code",
   "execution_count": 111,
   "id": "c2f98b57",
   "metadata": {},
   "outputs": [
    {
     "data": {
      "text/plain": [
       "array([[ 12,  23,  23,  12],\n",
       "       [  1,  23,  23,   4],\n",
       "       [  6,  55,  65,  56],\n",
       "       [ 56,   4,  53,  45],\n",
       "       [ 45,  43, 434,  55]])"
      ]
     },
     "execution_count": 111,
     "metadata": {},
     "output_type": "execute_result"
    }
   ],
   "source": [
    "afraim = [[12,23,23,12],[1,23,23,4],[6,55,65,56],[56,4,53,45],[45,43,434,55]]\n",
    "afr_2d= np.array(afraim)\n",
    "afr_2d\n"
   ]
  },
  {
   "cell_type": "code",
   "execution_count": 112,
   "id": "fb14fd29",
   "metadata": {},
   "outputs": [
    {
     "name": "stdout",
     "output_type": "stream",
     "text": [
      "ndim: 2\n",
      "shape: (5, 4)\n",
      "size: 20\n",
      "dtype: int32\n"
     ]
    }
   ],
   "source": [
    "size = afr_2d.size\n",
    "shape = afr_2d.shape\n",
    "dimension = afr_2d.ndim\n",
    "dataType = afr_2d.dtype\n",
    "\n",
    "print(f\"ndim: {dimension}\")\n",
    "print(f\"shape: {shape}\")\n",
    "print(f\"size: {size}\")\n",
    "print(f\"dtype: {dataType}\")"
   ]
  },
  {
   "cell_type": "code",
   "execution_count": 113,
   "id": "743fd1ab",
   "metadata": {},
   "outputs": [
    {
     "data": {
      "text/plain": [
       "array([[0., 0., 0., 0., 0.],\n",
       "       [0., 0., 0., 0., 0.],\n",
       "       [0., 0., 0., 0., 0.]])"
      ]
     },
     "execution_count": 113,
     "metadata": {},
     "output_type": "execute_result"
    }
   ],
   "source": [
    "np.ones((3, 5))\n",
    "np.zeros((3, 5))"
   ]
  },
  {
   "cell_type": "code",
   "execution_count": 114,
   "id": "21ab598c",
   "metadata": {},
   "outputs": [
    {
     "data": {
      "text/plain": [
       "array([[7, 7, 7, 7],\n",
       "       [7, 7, 7, 7],\n",
       "       [7, 7, 7, 7],\n",
       "       [7, 7, 7, 7]])"
      ]
     },
     "execution_count": 114,
     "metadata": {},
     "output_type": "execute_result"
    }
   ],
   "source": [
    "np.full((4,4),7)"
   ]
  },
  {
   "cell_type": "markdown",
   "id": "f03c98e0",
   "metadata": {},
   "source": [
    "UNIT matrix"
   ]
  },
  {
   "cell_type": "code",
   "execution_count": 115,
   "id": "a37b7d88",
   "metadata": {},
   "outputs": [
    {
     "data": {
      "text/plain": [
       "array([[1., 0., 0., 0., 0., 0., 0.],\n",
       "       [0., 1., 0., 0., 0., 0., 0.],\n",
       "       [0., 0., 1., 0., 0., 0., 0.],\n",
       "       [0., 0., 0., 1., 0., 0., 0.],\n",
       "       [0., 0., 0., 0., 1., 0., 0.],\n",
       "       [0., 0., 0., 0., 0., 1., 0.],\n",
       "       [0., 0., 0., 0., 0., 0., 1.]])"
      ]
     },
     "execution_count": 115,
     "metadata": {},
     "output_type": "execute_result"
    }
   ],
   "source": [
    "np.eye(7)"
   ]
  },
  {
   "cell_type": "code",
   "execution_count": 116,
   "id": "98288288",
   "metadata": {},
   "outputs": [
    {
     "data": {
      "text/plain": [
       "array([[0.43135096, 0.6867469 , 0.94513531, 0.77283119, 0.8022319 ,\n",
       "        0.52660584, 0.71694066, 0.45138757],\n",
       "       [0.42399455, 0.53003298, 0.57311944, 0.98132966, 0.50067452,\n",
       "        0.8072063 , 0.37399569, 0.93577807],\n",
       "       [0.54711977, 0.05487727, 0.0103241 , 0.69261778, 0.34651483,\n",
       "        0.18351966, 0.82746457, 0.5570372 ]])"
      ]
     },
     "execution_count": 116,
     "metadata": {},
     "output_type": "execute_result"
    }
   ],
   "source": [
    "np.random.random((3,8))"
   ]
  },
  {
   "cell_type": "code",
   "execution_count": 117,
   "id": "989b0e6b",
   "metadata": {},
   "outputs": [
    {
     "data": {
      "text/plain": [
       "array([23, 24, 25, 26, 27, 28, 29, 30, 31, 32, 33, 34, 35, 36, 37, 38, 39,\n",
       "       40, 41, 42, 43, 44])"
      ]
     },
     "execution_count": 117,
     "metadata": {},
     "output_type": "execute_result"
    }
   ],
   "source": [
    "np.arange(23,45)"
   ]
  },
  {
   "cell_type": "code",
   "execution_count": 118,
   "id": "537be40c",
   "metadata": {},
   "outputs": [
    {
     "data": {
      "text/plain": [
       "array([[0, 1, 2],\n",
       "       [3, 4, 5]])"
      ]
     },
     "execution_count": 118,
     "metadata": {},
     "output_type": "execute_result"
    }
   ],
   "source": [
    "np.arange(6).reshape(2,3)"
   ]
  },
  {
   "cell_type": "code",
   "execution_count": 119,
   "id": "2778f44d",
   "metadata": {},
   "outputs": [
    {
     "data": {
      "text/plain": [
       "array([1.        , 1.10204082, 1.20408163, 1.30612245, 1.40816327,\n",
       "       1.51020408, 1.6122449 , 1.71428571, 1.81632653, 1.91836735,\n",
       "       2.02040816, 2.12244898, 2.2244898 , 2.32653061, 2.42857143,\n",
       "       2.53061224, 2.63265306, 2.73469388, 2.83673469, 2.93877551,\n",
       "       3.04081633, 3.14285714, 3.24489796, 3.34693878, 3.44897959,\n",
       "       3.55102041, 3.65306122, 3.75510204, 3.85714286, 3.95918367,\n",
       "       4.06122449, 4.16326531, 4.26530612, 4.36734694, 4.46938776,\n",
       "       4.57142857, 4.67346939, 4.7755102 , 4.87755102, 4.97959184,\n",
       "       5.08163265, 5.18367347, 5.28571429, 5.3877551 , 5.48979592,\n",
       "       5.59183673, 5.69387755, 5.79591837, 5.89795918, 6.        ])"
      ]
     },
     "execution_count": 119,
     "metadata": {},
     "output_type": "execute_result"
    }
   ],
   "source": [
    "np.linspace(1,6)"
   ]
  },
  {
   "cell_type": "markdown",
   "id": "0273331f",
   "metadata": {},
   "source": [
    "spacing value = (stop - start) / (num - 1)"
   ]
  },
  {
   "cell_type": "code",
   "execution_count": 120,
   "id": "9ad01d37",
   "metadata": {},
   "outputs": [
    {
     "data": {
      "text/plain": [
       "array([1.        , 2.66666667, 4.33333333, 6.        ])"
      ]
     },
     "execution_count": 120,
     "metadata": {},
     "output_type": "execute_result"
    }
   ],
   "source": [
    "np.linspace(1,6,4)"
   ]
  },
  {
   "cell_type": "markdown",
   "id": "d9a0380b",
   "metadata": {},
   "source": [
    "**TASK-1**\n"
   ]
  },
  {
   "cell_type": "code",
   "execution_count": 121,
   "id": "707684b6",
   "metadata": {},
   "outputs": [
    {
     "data": {
      "text/plain": [
       "array([[23, 24, 25, 26, 27, 28, 29, 30, 31, 32],\n",
       "       [33, 34, 35, 36, 37, 38, 39, 40, 41, 42],\n",
       "       [43, 44, 45, 46, 47, 48, 49, 50, 51, 52],\n",
       "       [53, 54, 55, 56, 57, 58, 59, 60, 61, 62],\n",
       "       [63, 64, 65, 66, 67, 68, 69, 70, 71, 72]])"
      ]
     },
     "execution_count": 121,
     "metadata": {},
     "output_type": "execute_result"
    }
   ],
   "source": [
    "np.arange(23,73).reshape(5,10)"
   ]
  },
  {
   "cell_type": "markdown",
   "id": "525e337b",
   "metadata": {},
   "source": [
    "**TASK-2**"
   ]
  },
  {
   "cell_type": "code",
   "execution_count": 122,
   "id": "83a6cd95",
   "metadata": {},
   "outputs": [
    {
     "data": {
      "text/plain": [
       "array([[0.71374513, 0.20486345, 0.42043377, 0.76790904, 0.3305559 ,\n",
       "        0.64724929],\n",
       "       [0.3871747 , 0.62876234, 0.63272342, 0.34842528, 0.05022268,\n",
       "        0.87923896],\n",
       "       [0.26121902, 0.98304187, 0.82340525, 0.27253179, 0.31525815,\n",
       "        0.92639779]])"
      ]
     },
     "execution_count": 122,
     "metadata": {},
     "output_type": "execute_result"
    }
   ],
   "source": [
    "np.random.random((3,6))"
   ]
  },
  {
   "cell_type": "markdown",
   "id": "89a10ff3",
   "metadata": {},
   "source": [
    "The seed is set to 1234, so that the same sequence of random numbers can be generated every time the code is run with the same seed."
   ]
  },
  {
   "cell_type": "code",
   "execution_count": 123,
   "id": "53d598c0",
   "metadata": {},
   "outputs": [
    {
     "data": {
      "text/plain": [
       "array([[0.71693056, 2.05127993, 2.59271304, 2.12209535],\n",
       "       [2.69099511, 4.33047938, 0.81694131, 2.75637838]])"
      ]
     },
     "execution_count": 123,
     "metadata": {},
     "output_type": "execute_result"
    }
   ],
   "source": [
    "from numpy.random import default_rng\n",
    "rng = default_rng(1234)\n",
    "mean, std_d = 2, 0.8\n",
    "random_array = rng.normal(mean, std_d, size=(2, 4))\n",
    "random_array"
   ]
  },
  {
   "cell_type": "markdown",
   "id": "44d6086c",
   "metadata": {},
   "source": [
    " rng = default_rng(1234) creates an instance of the default random number generator with the seed set to 1234. random_array = rng.normal(mean, std_d, size=(2, 4)) generates a 2x4 array of random numbers sampled from a normal distribution with mean mean and standard deviation std_d using the normal method of the random number generator. The resulting random_array is then displayed"
   ]
  },
  {
   "cell_type": "markdown",
   "id": "666c54a2",
   "metadata": {},
   "source": [
    "# Array slicing/indexing"
   ]
  },
  {
   "cell_type": "code",
   "execution_count": 124,
   "id": "87a2a156",
   "metadata": {},
   "outputs": [
    {
     "data": {
      "text/plain": [
       "array([ 3,  4, 13, 14,  7,  8, 16])"
      ]
     },
     "execution_count": 124,
     "metadata": {},
     "output_type": "execute_result"
    }
   ],
   "source": [
    "array1 = np.arange(3,10) \n",
    "array1[-1] = 16\n",
    "array1[2:4] = [13,14]\n",
    "array1"
   ]
  },
  {
   "cell_type": "markdown",
   "id": "f38614b6",
   "metadata": {},
   "source": [
    "array[start:stop:step size]"
   ]
  },
  {
   "cell_type": "markdown",
   "id": "071af201",
   "metadata": {},
   "source": [
    "*matrix array*"
   ]
  },
  {
   "cell_type": "code",
   "execution_count": 125,
   "id": "ad05d27b",
   "metadata": {},
   "outputs": [
    {
     "name": "stdout",
     "output_type": "stream",
     "text": [
      "[ 4  5  6  7  8  9 10 11 12]\n",
      "[[ 4  5  6]\n",
      " [ 7  8  9]\n",
      " [10 11 12]]\n"
     ]
    }
   ],
   "source": [
    "array2 = np.arange(4,13)\n",
    "print(array2)\n",
    "array2= array2.reshape(3,3)\n",
    "print(array2)"
   ]
  },
  {
   "cell_type": "code",
   "execution_count": 126,
   "id": "f682d154",
   "metadata": {},
   "outputs": [
    {
     "data": {
      "text/plain": [
       "array([[5],\n",
       "       [8]])"
      ]
     },
     "execution_count": 126,
     "metadata": {},
     "output_type": "execute_result"
    }
   ],
   "source": [
    "array2[0:2,1:2]"
   ]
  },
  {
   "cell_type": "code",
   "execution_count": 127,
   "id": "2c0b5002",
   "metadata": {},
   "outputs": [
    {
     "data": {
      "text/plain": [
       "array([[7, 8]])"
      ]
     },
     "execution_count": 127,
     "metadata": {},
     "output_type": "execute_result"
    }
   ],
   "source": [
    "array2[1:2, :2]"
   ]
  },
  {
   "cell_type": "code",
   "execution_count": 128,
   "id": "5f12ff33",
   "metadata": {},
   "outputs": [
    {
     "data": {
      "text/plain": [
       "array([[10, 11, 12]])"
      ]
     },
     "execution_count": 128,
     "metadata": {},
     "output_type": "execute_result"
    }
   ],
   "source": [
    "array2[2:3, :3]"
   ]
  },
  {
   "cell_type": "code",
   "execution_count": 129,
   "id": "b4f1fd9f",
   "metadata": {},
   "outputs": [
    {
     "data": {
      "text/plain": [
       "array([[ 8,  9],\n",
       "       [11, 12]])"
      ]
     },
     "execution_count": 129,
     "metadata": {},
     "output_type": "execute_result"
    }
   ],
   "source": [
    "array2[1: ,[1,2]]"
   ]
  },
  {
   "cell_type": "markdown",
   "id": "cffce694",
   "metadata": {},
   "source": [
    "**ARRAY INDEXING EXERCISE**"
   ]
  },
  {
   "attachments": {
    "image.png": {
     "image/png": "[encoded data removed]"
    }
   },
   "cell_type": "markdown",
   "id": "2b9d7e04",
   "metadata": {},
   "source": [
    "![image.png](attachment:image.png)\n"
   ]
  },
  {
   "cell_type": "markdown",
   "id": "fb1b4d43",
   "metadata": {},
   "source": [
    "\n"
   ]
  },
  {
   "cell_type": "code",
   "execution_count": 130,
   "id": "a6fb8be9",
   "metadata": {},
   "outputs": [
    {
     "data": {
      "text/plain": [
       "array([[ 0,  1,  2,  3,  4],\n",
       "       [ 5,  6,  7,  8,  9],\n",
       "       [10, 11, 12, 13, 14],\n",
       "       [15, 16, 17, 18, 19],\n",
       "       [20, 21, 22, 23, 24]])"
      ]
     },
     "execution_count": 130,
     "metadata": {},
     "output_type": "execute_result"
    }
   ],
   "source": [
    "array3 = np.arange(0,25)\n",
    "array3.shape= (5,5)\n",
    "array3"
   ]
  },
  {
   "cell_type": "code",
   "execution_count": 131,
   "id": "176dfb03",
   "metadata": {},
   "outputs": [
    {
     "name": "stdout",
     "output_type": "stream",
     "text": [
      "[[ 1  3]\n",
      " [ 6  8]\n",
      " [11 13]\n",
      " [16 18]\n",
      " [21 23]]\n",
      "[[ 5  7]\n",
      " [15 17]]\n",
      "[[20 21 22 23 24]]\n"
     ]
    }
   ],
   "source": [
    "print(array3[:, 1:4:2])\n",
    "\n",
    "print(array3[1:4:2, 0:3:2])\n",
    "\n",
    "print(array3[4:, :])"
   ]
  },
  {
   "cell_type": "markdown",
   "id": "0756a073",
   "metadata": {},
   "source": [
    "***ii) Array Operations***\n"
   ]
  },
  {
   "cell_type": "code",
   "execution_count": 132,
   "id": "8775b5b3",
   "metadata": {},
   "outputs": [
    {
     "name": "stdout",
     "output_type": "stream",
     "text": [
      "1st row goes to: [12  2  6 48]\n",
      "2nd row goes to: [ 6  3  5 73]\n"
     ]
    },
    {
     "data": {
      "text/plain": [
       "array([  72,    6,   30, 3504])"
      ]
     },
     "execution_count": 132,
     "metadata": {},
     "output_type": "execute_result"
    }
   ],
   "source": [
    "sales = [[12, 2, 6, 48], [6, 3, 5, 73]]\n",
    "sales_array = np.array(sales)\n",
    "sales_array+2\n",
    "quantity = sales_array[0, :]\n",
    "print(f\"1st row goes to:\",quantity)\n",
    "price = sales_array[1, :]\n",
    "print(f\"2nd row goes to:\",price)\n",
    "quantity * price"
   ]
  },
  {
   "cell_type": "markdown",
   "id": "ed054c8a",
   "metadata": {},
   "source": [
    "**Task-3**\n"
   ]
  },
  {
   "cell_type": "code",
   "execution_count": 133,
   "id": "41f8b4a1",
   "metadata": {},
   "outputs": [
    {
     "data": {
      "text/plain": [
       "array([20, 30, 40, 50, 60, 70])"
      ]
     },
     "execution_count": 133,
     "metadata": {},
     "output_type": "execute_result"
    }
   ],
   "source": [
    "prices = np.array([10, 20, 30, 40, 50, 60])\n",
    "newP = prices+5\n",
    "discP = newP%10+newP\n",
    "np.around(discP,2)"
   ]
  },
  {
   "cell_type": "code",
   "execution_count": 134,
   "id": "4dbb0f46",
   "metadata": {},
   "outputs": [
    {
     "name": "stdout",
     "output_type": "stream",
     "text": [
      "discounts: [1.39583658 0.58004636 1.26475977 0.19458094 0.25428684 0.17790234]\n",
      "[13.6  24.42 33.74 44.81 54.75 64.82]\n"
     ]
    }
   ],
   "source": [
    "from numpy.random import default_rng\n",
    "\n",
    "prices = np.array([10, 20, 30, 40, 50, 60])\n",
    "\n",
    "# add flat 5tk shipping cose for every product\n",
    "prices = prices + 5\n",
    "\n",
    "# generate a random discount for every product\n",
    "rng = default_rng()\n",
    "discounts = rng.random(len(prices)) * 0.1 * prices #discounted random number *10% *prices\n",
    "print(f\"discounts:\",discounts)\n",
    "# calculate the final price and round the result to 2 decimal places\n",
    "final_prices = np.around(prices - discounts, decimals=2)\n",
    "print(final_prices)"
   ]
  },
  {
   "cell_type": "markdown",
   "id": "7ccafbd9",
   "metadata": {},
   "source": [
    "iii)Filtration in array and logical test thingzz:"
   ]
  },
  {
   "cell_type": "code",
   "execution_count": 135,
   "id": "8cfb34d2",
   "metadata": {},
   "outputs": [
    {
     "data": {
      "text/plain": [
       "array([False,  True,  True,  True,  True,  True])"
      ]
     },
     "execution_count": 135,
     "metadata": {},
     "output_type": "execute_result"
    }
   ],
   "source": [
    "#logical test\n",
    "final_prices>=15"
   ]
  },
  {
   "cell_type": "code",
   "execution_count": 136,
   "id": "d348eaf5",
   "metadata": {},
   "outputs": [
    {
     "data": {
      "text/plain": [
       "array([13.6 , 24.42, 33.74, 44.81,  0.  , 64.82])"
      ]
     },
     "execution_count": 136,
     "metadata": {},
     "output_type": "execute_result"
    }
   ],
   "source": [
    "final_prices[4]=0\n",
    "final_prices"
   ]
  },
  {
   "cell_type": "markdown",
   "id": "923962b6",
   "metadata": {},
   "source": [
    "NP.where() usages:"
   ]
  },
  {
   "cell_type": "code",
   "execution_count": 137,
   "id": "79030c38",
   "metadata": {},
   "outputs": [
    {
     "data": {
      "text/plain": [
       "array(['13.6', '24.42', '33.74', '44.81', 'out of order', '64.82'],\n",
       "      dtype='<U32')"
      ]
     },
     "execution_count": 137,
     "metadata": {},
     "output_type": "execute_result"
    }
   ],
   "source": [
    "np.where(final_prices<=0, \"out of order\", final_prices)"
   ]
  },
  {
   "cell_type": "code",
   "execution_count": 138,
   "id": "206a54a7",
   "metadata": {},
   "outputs": [
    {
     "data": {
      "text/plain": [
       "array(['afraim', 'niggz', 'alone', 'nobody', 'out of order', 'me'],\n",
       "      dtype='<U12')"
      ]
     },
     "execution_count": 138,
     "metadata": {},
     "output_type": "execute_result"
    }
   ],
   "source": [
    "people= np.array([\"afraim\", \"niggz\", \"alone\", \"nobody\", \"loves\", \"me\"])\n",
    "np.where(final_prices<=0, \"out of order\", people)"
   ]
  },
  {
   "cell_type": "markdown",
   "id": "f9e581c1",
   "metadata": {},
   "source": [
    "**Task-4**"
   ]
  },
  {
   "cell_type": "code",
   "execution_count": 139,
   "id": "27c0c165",
   "metadata": {},
   "outputs": [
    {
     "name": "stdout",
     "output_type": "stream",
     "text": [
      "['pepsi' 'pepsi' '30' '40' '50' '60']\n"
     ]
    },
    {
     "data": {
      "text/plain": [
       "array([15, 20, 30, 40, 50, 60])"
      ]
     },
     "execution_count": 139,
     "metadata": {},
     "output_type": "execute_result"
    }
   ],
   "source": [
    "prices = np.array([10, 20, 30, 40, 50, 60])\n",
    "\n",
    "# filter prices greater than 25\n",
    "fancy_feast_special = np.where(prices<25, \"pepsi\", prices)\n",
    "print(fancy_feast_special)\n",
    "# add \"pepsi\" to the list\n",
    "\n",
    "# create shipping cost array\n",
    "shipping_cost = prices\n",
    "np.where(shipping_cost<20, shipping_cost+5, shipping_cost)\n",
    "\n"
   ]
  },
  {
   "cell_type": "markdown",
   "id": "50622660",
   "metadata": {},
   "source": [
    "**iV)Array Aggregation**"
   ]
  },
  {
   "cell_type": "code",
   "execution_count": 140,
   "id": "89858929",
   "metadata": {},
   "outputs": [
    {
     "name": "stdout",
     "output_type": "stream",
     "text": [
      "sum = 56\n",
      "mean = 7.0\n",
      "min = 0\n",
      "max = 23\n"
     ]
    }
   ],
   "source": [
    "i_array = np.array([[23, 7, 0, 4], [4,5,6,7]])\n",
    "print(f\"sum =\",i_array.sum())\n",
    "print(f\"mean =\",i_array.mean())\n",
    "print(f\"min =\",i_array.min())\n",
    "print(f\"max =\",i_array.max())"
   ]
  },
  {
   "cell_type": "code",
   "execution_count": 141,
   "id": "e94bbe10",
   "metadata": {},
   "outputs": [
    {
     "data": {
      "text/plain": [
       "5.5"
      ]
     },
     "execution_count": 141,
     "metadata": {},
     "output_type": "execute_result"
    }
   ],
   "source": [
    "np.median(i_array)\n",
    "#[0,4,4,5,6,7,7,23]\n",
    "#5+6/2 = 11/2 = 5.5"
   ]
  },
  {
   "cell_type": "code",
   "execution_count": 142,
   "id": "2fefb820",
   "metadata": {},
   "outputs": [
    {
     "data": {
      "text/plain": [
       "array([ 0,  4,  5,  6,  7, 23])"
      ]
     },
     "execution_count": 142,
     "metadata": {},
     "output_type": "execute_result"
    }
   ],
   "source": [
    "np.unique(i_array)\n",
    "#unique numbers nibe shudhu"
   ]
  },
  {
   "cell_type": "code",
   "execution_count": 143,
   "id": "8e3be72d",
   "metadata": {},
   "outputs": [
    {
     "data": {
      "text/plain": [
       "7.0"
      ]
     },
     "execution_count": 143,
     "metadata": {},
     "output_type": "execute_result"
    }
   ],
   "source": [
    "np.percentile(i_array, 85)"
   ]
  },
  {
   "cell_type": "markdown",
   "id": "35eaf4ef",
   "metadata": {},
   "source": [
    "Percentile = (p * (N + 1)) / 100\n",
    "\n",
    "The 85th percentile for the list [0,4,4,5,6,7,7,23] can be calculated as follows:\n",
    "\n",
    "1)Sort the list in ascending order, [0, 4, 4, 5, 6, 7, 7, 23].\n",
    "\n",
    "2)Multiply the desired percentile by the number of elements in the list, 85 * 8 = 680.\n",
    "\n",
    "3)Divide the result by 100 and round down to the nearest integer, 680 / 100 = 6.8 rounded down to 6.\n",
    "\n",
    "4)Select the 6th element of the sorted list, which is 7.\n",
    "\n",
    "Therefore, the 85th percentile for the list [0,4,4,5,6,7,7,23] is 7."
   ]
  },
  {
   "cell_type": "code",
   "execution_count": 144,
   "id": "a66a7079",
   "metadata": {},
   "outputs": [
    {
     "data": {
      "text/plain": [
       "6.55"
      ]
     },
     "execution_count": 144,
     "metadata": {},
     "output_type": "execute_result"
    }
   ],
   "source": [
    "np.percentile(i_array, 65)"
   ]
  },
  {
   "cell_type": "code",
   "execution_count": 145,
   "id": "84678d9e",
   "metadata": {},
   "outputs": [
    {
     "data": {
      "text/plain": [
       "array([[ 0,  4,  7, 23],\n",
       "       [ 4,  5,  6,  7]])"
      ]
     },
     "execution_count": 145,
     "metadata": {},
     "output_type": "execute_result"
    }
   ],
   "source": [
    "np.sort(i_array)"
   ]
  },
  {
   "cell_type": "code",
   "execution_count": 146,
   "id": "d92db992",
   "metadata": {},
   "outputs": [
    {
     "data": {
      "text/plain": [
       "array([[ 0,  4,  7, 23],\n",
       "       [ 4,  5,  6,  7]])"
      ]
     },
     "execution_count": 146,
     "metadata": {},
     "output_type": "execute_result"
    }
   ],
   "source": [
    "i_array.sort(axis=1)\n",
    "i_array"
   ]
  },
  {
   "cell_type": "markdown",
   "id": "fb5fa0e8",
   "metadata": {},
   "source": [
    "**3. COPY & VIEW**"
   ]
  },
  {
   "cell_type": "code",
   "execution_count": 147,
   "id": "f691ae6f",
   "metadata": {},
   "outputs": [
    {
     "name": "stderr",
     "output_type": "stream",
     "text": [
      "C:\\Users\\User\\AppData\\Local\\Temp\\ipykernel_8728\\1435200353.py:2: DeprecationWarning: elementwise comparison failed; this will raise an error in the future.\n",
      "  i_array == copyi_array\n"
     ]
    },
    {
     "data": {
      "text/plain": [
       "False"
      ]
     },
     "execution_count": 147,
     "metadata": {},
     "output_type": "execute_result"
    }
   ],
   "source": [
    "copyi_array = np.array([0,4,7,23,4,5,6,7])\n",
    "i_array == copyi_array\n"
   ]
  },
  {
   "cell_type": "code",
   "execution_count": 148,
   "id": "bd7ac7cb",
   "metadata": {},
   "outputs": [
    {
     "data": {
      "text/plain": [
       "array([[ 5,  4,  3, 42],\n",
       "       [ 5,  4,  3,  2]])"
      ]
     },
     "execution_count": 148,
     "metadata": {},
     "output_type": "execute_result"
    }
   ],
   "source": [
    "r_array= np.array([5,4,3,42,5,4,3,2])\n",
    "\n",
    "final_Array= r_array.view() #.view()\n",
    "final_Array.shape= (2,4)\n",
    "final_Array"
   ]
  },
  {
   "cell_type": "code",
   "execution_count": 149,
   "id": "1eec529b",
   "metadata": {},
   "outputs": [
    {
     "name": "stdout",
     "output_type": "stream",
     "text": [
      "[[ 5  4  3 42]\n",
      " [ 5  4  3 77]]\n",
      "[ 5  4  3 42  5  4  3 77]\n"
     ]
    }
   ],
   "source": [
    "final_Array[1,3] = 77\n",
    "print(final_Array)\n",
    "print(r_array)"
   ]
  },
  {
   "cell_type": "markdown",
   "id": "9aef9c53",
   "metadata": {},
   "source": [
    "In NumPy, the is operator checks for object identity, not object equality."
   ]
  },
  {
   "cell_type": "code",
   "execution_count": 150,
   "id": "1a3333b6",
   "metadata": {},
   "outputs": [
    {
     "name": "stdout",
     "output_type": "stream",
     "text": [
      "Original: [0 1 2 3 4 5 6 7 8 9]\n",
      "Copied: [0 1 2 3 4 5 6 7 8 9]\n"
     ]
    },
    {
     "data": {
      "text/plain": [
       "True"
      ]
     },
     "execution_count": 150,
     "metadata": {},
     "output_type": "execute_result"
    }
   ],
   "source": [
    "original_arr = np.arange(10)\n",
    "print(\"Original:\", original_arr)\n",
    "\n",
    "copied_arr = original_arr\n",
    "print(\"Copied:\", copied_arr)\n",
    "original_arr is copied_arr\n"
   ]
  },
  {
   "cell_type": "code",
   "execution_count": 151,
   "id": "b78cb49b",
   "metadata": {},
   "outputs": [
    {
     "name": "stdout",
     "output_type": "stream",
     "text": [
      "[3 1 2 3 4 5 6 7 8 9]\n",
      "[3 1 2 3 4 5 6 7 8 9]\n"
     ]
    }
   ],
   "source": [
    "original_arr == copied_arr\n",
    "copied_arr[0] = 3\n",
    "print(original_arr)\n",
    "print(copied_arr)"
   ]
  },
  {
   "cell_type": "code",
   "execution_count": 152,
   "id": "f93734d9",
   "metadata": {},
   "outputs": [
    {
     "name": "stdout",
     "output_type": "stream",
     "text": [
      "[88 91 82 89 95 85]\n"
     ]
    }
   ],
   "source": [
    "raw_marks = np.array([88, 91, 82, 89, 95, 85])\n",
    "final_marks = raw_marks.view()\n",
    "final_marks.shape = (2, 3)\n",
    "final_marks\n",
    "print(raw_marks)"
   ]
  },
  {
   "cell_type": "code",
   "execution_count": 153,
   "id": "ddb58861",
   "metadata": {},
   "outputs": [
    {
     "name": "stdout",
     "output_type": "stream",
     "text": [
      "After Changing:\n",
      "[[88 91 82]\n",
      " [89 77 85]]\n",
      "[88 91 82 89 77 85]\n"
     ]
    }
   ],
   "source": [
    "final_marks[1,1] = 77\n",
    "print(\"After Changing:\")\n",
    "print(final_marks)\n",
    "print(raw_marks)"
   ]
  },
  {
   "cell_type": "code",
   "execution_count": 154,
   "id": "3970cb77",
   "metadata": {},
   "outputs": [
    {
     "name": "stdout",
     "output_type": "stream",
     "text": [
      "[88 91 82 89 77 85]\n"
     ]
    }
   ],
   "source": [
    "print(raw_marks)"
   ]
  },
  {
   "cell_type": "markdown",
   "id": "5dac4c3d",
   "metadata": {},
   "source": [
    "# **5. Broadcasting**"
   ]
  },
  {
   "cell_type": "code",
   "execution_count": 155,
   "id": "c85aa2e8",
   "metadata": {},
   "outputs": [
    {
     "data": {
      "text/plain": [
       "array([[[ 0,  1,  2,  3,  4],\n",
       "        [ 5,  6,  7,  8,  9],\n",
       "        [10, 11, 12, 13, 14],\n",
       "        [15, 16, 17, 18, 19],\n",
       "        [20, 21, 22, 23, 24],\n",
       "        [25, 26, 27, 28, 29],\n",
       "        [30, 31, 32, 33, 34],\n",
       "        [35, 36, 37, 38, 39],\n",
       "        [40, 41, 42, 43, 44]],\n",
       "\n",
       "       [[45, 46, 47, 48, 49],\n",
       "        [50, 51, 52, 53, 54],\n",
       "        [55, 56, 57, 58, 59],\n",
       "        [60, 61, 62, 63, 64],\n",
       "        [65, 66, 67, 68, 69],\n",
       "        [70, 71, 72, 73, 74],\n",
       "        [75, 76, 77, 78, 79],\n",
       "        [80, 81, 82, 83, 84],\n",
       "        [85, 86, 87, 88, 89]]])"
      ]
     },
     "execution_count": 155,
     "metadata": {},
     "output_type": "execute_result"
    }
   ],
   "source": [
    "array3d = np.arange(90)\n",
    "array3d.shape = (2,9,5)\n",
    "array3d"
   ]
  },
  {
   "cell_type": "code",
   "execution_count": 156,
   "id": "6ca00a00",
   "metadata": {},
   "outputs": [
    {
     "name": "stdout",
     "output_type": "stream",
     "text": [
      "[ 0 10 20 30]\n",
      "[0 1 2]\n"
     ]
    }
   ],
   "source": [
    "a = np.arange(0,31,10)\n",
    "print(a)\n",
    "b = np.arange(0, 3)\n",
    "print(b)"
   ]
  },
  {
   "cell_type": "markdown",
   "id": "7b993a37",
   "metadata": {},
   "source": [
    "***'np.newaxis' is a constant that can be used to insert a new axis (dimension) in a numpy array. This is useful when working with arrays of different shapes, or when you want to broadcast an array of lower dimensions to a higher dimensional array.***"
   ]
  },
  {
   "cell_type": "code",
   "execution_count": 157,
   "id": "0953e35c",
   "metadata": {},
   "outputs": [
    {
     "name": "stdout",
     "output_type": "stream",
     "text": [
      "[[1 2 3 4]]\n",
      "[[1]\n",
      " [2]\n",
      " [3]\n",
      " [4]]\n"
     ]
    }
   ],
   "source": [
    "arr = np.array([1, 2, 3, 4])\n",
    "arr_with_newaxisofROW = arr[np.newaxis, :]\n",
    "print(arr_with_newaxisofROW)\n",
    "\n",
    "arr_with_newaxisofCOL = arr[:, np.newaxis]\n",
    "print(arr_with_newaxisofCOL)"
   ]
  },
  {
   "cell_type": "code",
   "execution_count": 158,
   "id": "99bc42be",
   "metadata": {},
   "outputs": [
    {
     "name": "stdout",
     "output_type": "stream",
     "text": [
      "[[ 0  1  2  3  4  5  6]\n",
      " [ 3  4  5  6  7  8  9]\n",
      " [ 6  7  8  9 10 11 12]]\n"
     ]
    }
   ],
   "source": [
    "a = np.arange(0,7,)\n",
    "b = np.arange(0, 7,3)\n",
    "print(b[:, np.newaxis]+a)"
   ]
  },
  {
   "cell_type": "code",
   "execution_count": 159,
   "id": "737bd049",
   "metadata": {},
   "outputs": [
    {
     "name": "stdout",
     "output_type": "stream",
     "text": [
      "[[ 0  3  6]\n",
      " [ 1  4  7]\n",
      " [ 2  5  8]\n",
      " [ 3  6  9]\n",
      " [ 4  7 10]\n",
      " [ 5  8 11]\n",
      " [ 6  9 12]]\n"
     ]
    }
   ],
   "source": [
    "a = np.arange(0,7,)\n",
    "b = np.arange(0, 7,3)\n",
    "print(a[:, np.newaxis]+b) #row+column"
   ]
  },
  {
   "cell_type": "code",
   "execution_count": 160,
   "id": "5d7075e4",
   "metadata": {},
   "outputs": [
    {
     "ename": "ValueError",
     "evalue": "operands could not be broadcast together with shapes (1,2) (3,) ",
     "output_type": "error",
     "traceback": [
      "\u001b[1;31m-----------------------------------------------------\u001b[0m",
      "\u001b[1;31mValueError\u001b[0m          Traceback (most recent call last)",
      "Input \u001b[1;32mIn [160]\u001b[0m, in \u001b[0;36m<cell line: 3>\u001b[1;34m()\u001b[0m\n\u001b[0;32m      1\u001b[0m x \u001b[38;5;241m=\u001b[39m np\u001b[38;5;241m.\u001b[39marray([\u001b[38;5;241m1\u001b[39m, \u001b[38;5;241m2\u001b[39m])\n\u001b[0;32m      2\u001b[0m y \u001b[38;5;241m=\u001b[39m np\u001b[38;5;241m.\u001b[39marray([\u001b[38;5;241m3\u001b[39m, \u001b[38;5;241m4\u001b[39m, \u001b[38;5;241m5\u001b[39m])\n\u001b[1;32m----> 3\u001b[0m z \u001b[38;5;241m=\u001b[39m (\u001b[43mx\u001b[49m\u001b[43m[\u001b[49m\u001b[43mnp\u001b[49m\u001b[38;5;241;43m.\u001b[39;49m\u001b[43mnewaxis\u001b[49m\u001b[43m,\u001b[49m\u001b[43m \u001b[49m\u001b[43m:\u001b[49m\u001b[43m]\u001b[49m\u001b[43m \u001b[49m\u001b[38;5;241;43m+\u001b[39;49m\u001b[43m \u001b[49m\u001b[43my\u001b[49m)\n\u001b[0;32m      4\u001b[0m z\n",
      "\u001b[1;31mValueError\u001b[0m: operands could not be broadcast together with shapes (1,2) (3,) "
     ]
    }
   ],
   "source": [
    "x = np.array([1, 2])\n",
    "y = np.array([3, 4, 5])\n",
    "z = (x[np.newaxis, :] + y)\n",
    "z"
   ]
  },
  {
   "cell_type": "code",
   "execution_count": null,
   "id": "cd786d18",
   "metadata": {},
   "outputs": [],
   "source": [
    "h= np.arange(0,5)\n",
    "g=np.arange(0,5)\n",
    "print(h[np.newaxis, :] + g)\n",
    "print(h[np.newaxis, :] +g[:, np.newaxis])\n",
    "print(h[np.newaxis, :] +g[np.newaxis,:])\n",
    "print(h[:, np.newaxis] +g[np.newaxis,:])\n"
   ]
  },
  {
   "cell_type": "code",
   "execution_count": null,
   "id": "a78a15e6",
   "metadata": {},
   "outputs": [],
   "source": [
    "import matplotlib.pyplot as plt\n",
    "%matplotlib inline\n",
    "a = np.linspace(0, 1, 15) - 0.6\n",
    "'''This code creates an array a of 15 evenly spaced values between 0 and 1 and \n",
    "then subtracts 0.8 from each value, so a will be an array of \n",
    "15 values that are evenly spaced between -0.8 and 0.2.'''\n",
    "\n",
    "b = a[:, np.newaxis] # b.shape == (15, 1)\n",
    "dist2 = a**2 + b**2 # broadcasting sum.\n",
    "dist = np.sqrt(dist2)\n",
    "print(dist)\n",
    "plt.imshow(dist)\n",
    "plt.colorbar();"
   ]
  },
  {
   "cell_type": "markdown",
   "id": "6d4ba7bf",
   "metadata": {},
   "source": [
    "This code creates a 2D grid of numbers ranging from -0.5 to 0.5 in increments of 0.1 using the np.linspace function from NumPy library. The grid is then used to calculate the Euclidean distance between each point and the origin (0, 0). The resulting distance is represented as a color map using the imshow function from the Matplotlib library, and a color bar is added using the colorbar function.\n",
    "\n",
    "\n",
    "\n",
    "\n"
   ]
  },
  {
   "cell_type": "code",
   "execution_count": null,
   "id": "4d13cec7",
   "metadata": {},
   "outputs": [],
   "source": [
    "aee,n  = np.ogrid[0:1:0.07, 0:1:0.07]\n",
    "print(aee.shape, n.shape)"
   ]
  },
  {
   "cell_type": "markdown",
   "id": "69667573",
   "metadata": {},
   "source": [
    "When calling np.ogrid[0:1:0.07, 0:1:0.07], np.ogrid will create two 1-dimensional arrays that represent the values in the range [0, 1) with a step size of 0.07, one for each dimension."
   ]
  },
  {
   "cell_type": "markdown",
   "id": "2e08def8",
   "metadata": {},
   "source": [
    "# 6. Structure & Record arrays"
   ]
  },
  {
   "cell_type": "markdown",
   "id": "6caca2be",
   "metadata": {},
   "source": [
    "s6, f8, and i8 are data type specifiers used in NumPy to specify the format of a structured data type.\n",
    "\n",
    "s6 specifies a string field of length 6.\n",
    "\n",
    "f8 specifies a floating-point field with a precision of 8 bytes (64 bits).\n",
    "\n",
    "i8 specifies a signed integer field with a size of 8 bytes (64 bits)"
   ]
  },
  {
   "cell_type": "code",
   "execution_count": 162,
   "id": "00d4cb39",
   "metadata": {},
   "outputs": [],
   "source": [
    "afraim_info= [('color', 'S7'),('age', 'i8'), ('weight', 'f8'), ('height', 'f8')]"
   ]
  },
  {
   "cell_type": "code",
   "execution_count": 163,
   "id": "93807ad6",
   "metadata": {},
   "outputs": [
    {
     "data": {
      "text/plain": [
       "array([(b'', 0, 0., 0.), (b'', 0, 0., 0.), (b'', 0, 0., 0.),\n",
       "       (b'', 0, 0., 0.)],\n",
       "      dtype=[('color', 'S7'), ('age', '<i8'), ('weight', '<f8'), ('height', '<f8')])"
      ]
     },
     "execution_count": 163,
     "metadata": {},
     "output_type": "execute_result"
    }
   ],
   "source": [
    "#randomly filling all with zeroes\n",
    "info_array = np.zeros((4),dtype = afraim_i)\n",
    "info_array"
   ]
  },
  {
   "cell_type": "code",
   "execution_count": 164,
   "id": "28a20428",
   "metadata": {},
   "outputs": [],
   "source": [
    "#now enlisting some data into all the fields in some list..\n",
    "info_array[2] = ('black', 23, 102, 6.28)\n",
    "info_array[3] = ('white', 25, 78, 6.3)"
   ]
  },
  {
   "cell_type": "code",
   "execution_count": 165,
   "id": "f4bedd5d",
   "metadata": {},
   "outputs": [
    {
     "data": {
      "text/plain": [
       "array([(b'',  0,   0., 0.  ), (b'',  0,   0., 0.  ),\n",
       "       (b'black', 23, 102., 6.28), (b'white', 25,  78., 6.3 )],\n",
       "      dtype=[('color', 'S7'), ('age', '<i8'), ('weight', '<f8'), ('height', '<f8')])"
      ]
     },
     "execution_count": 165,
     "metadata": {},
     "output_type": "execute_result"
    }
   ],
   "source": [
    "#the updated list would be: \n",
    "info_array"
   ]
  },
  {
   "cell_type": "code",
   "execution_count": 166,
   "id": "aec92e7d",
   "metadata": {},
   "outputs": [
    {
     "data": {
      "text/plain": [
       "array([(b'',  0,   0., 0.  ), (b'black', 23, 102., 6.28)],\n",
       "      dtype=[('color', 'S7'), ('age', '<i8'), ('weight', '<f8'), ('height', '<f8')])"
      ]
     },
     "execution_count": 166,
     "metadata": {},
     "output_type": "execute_result"
    }
   ],
   "source": [
    "#now, just tweaking by stepping and etc...\n",
    "info_array[0::2]"
   ]
  },
  {
   "cell_type": "code",
   "execution_count": 171,
   "id": "48a3d4b9",
   "metadata": {},
   "outputs": [],
   "source": [
    "#we can even bring the data of the age/height/weight distinctly thru assigning some systems..\n",
    "heights = info_array['height']\n",
    "weights = info_array['weight']\n",
    "ages = info_array['age']\n"
   ]
  },
  {
   "cell_type": "code",
   "execution_count": 172,
   "id": "1b6e6616",
   "metadata": {},
   "outputs": [
    {
     "data": {
      "text/plain": [
       "array([ 0,  0, 23, 25], dtype=int64)"
      ]
     },
     "execution_count": 172,
     "metadata": {},
     "output_type": "execute_result"
    }
   ],
   "source": [
    "#any output would be obtained\n",
    "ages"
   ]
  },
  {
   "cell_type": "code",
   "execution_count": 173,
   "id": "4f10fdee",
   "metadata": {},
   "outputs": [
    {
     "data": {
      "text/plain": [
       "array([  0.,   0., 102.,  78.])"
      ]
     },
     "execution_count": 173,
     "metadata": {},
     "output_type": "execute_result"
    }
   ],
   "source": [
    "weights"
   ]
  },
  {
   "cell_type": "code",
   "execution_count": 174,
   "id": "e6c9f1e2",
   "metadata": {},
   "outputs": [
    {
     "data": {
      "text/plain": [
       "array([0.  , 0.  , 6.28, 6.3 ])"
      ]
     },
     "execution_count": 174,
     "metadata": {},
     "output_type": "execute_result"
    }
   ],
   "source": [
    "heights"
   ]
  },
  {
   "cell_type": "code",
   "execution_count": 177,
   "id": "af331011",
   "metadata": {},
   "outputs": [
    {
     "data": {
      "text/plain": [
       "array([ 0.,  0., 51., 39.])"
      ]
     },
     "execution_count": 177,
     "metadata": {},
     "output_type": "execute_result"
    }
   ],
   "source": [
    "#we can even make calculations with those datas..\n",
    "#imagine after 2 years afraim cut his weight by double so the result would be:\n",
    "new_weight= weights/2\n",
    "new_weight"
   ]
  },
  {
   "cell_type": "code",
   "execution_count": null,
   "id": "0b113e72",
   "metadata": {},
   "outputs": [],
   "source": []
  }
 ],
 "metadata": {
  "kernelspec": {
   "display_name": "Python 3 (ipykernel)",
   "language": "python",
   "name": "python3"
  },
  "language_info": {
   "codemirror_mode": {
    "name": "ipython",
    "version": 3
   },
   "file_extension": ".py",
   "mimetype": "text/x-python",
   "name": "python",
   "nbconvert_exporter": "python",
   "pygments_lexer": "ipython3",
   "version": "3.9.12"
  }
 },
 "nbformat": 4,
 "nbformat_minor": 5
}
